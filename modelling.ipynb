{
  "cells": [
    {
      "cell_type": "code",
      "execution_count": 42,
      "metadata": {
        "id": "5rJofwYM00iQ"
      },
      "outputs": [],
      "source": [
        "import pandas as pd\n",
        "import numpy as np\n",
        "import matplotlib.pyplot as plt"
      ]
    },
    {
      "cell_type": "code",
      "execution_count": 43,
      "metadata": {
        "id": "Fcj38U2q1CcL"
      },
      "outputs": [],
      "source": [
        "df = pd.read_csv('data_C.csv')"
      ]
    },
    {
      "cell_type": "markdown",
      "metadata": {
        "id": "Ya8N2qELPinn"
      },
      "source": [
        "# Exploratory Data Analysis"
      ]
    },
    {
      "cell_type": "code",
      "execution_count": 44,
      "metadata": {},
      "outputs": [
        {
          "data": {
            "text/plain": [
              "(41258, 15)"
            ]
          },
          "execution_count": 44,
          "metadata": {},
          "output_type": "execute_result"
        }
      ],
      "source": [
        "df.shape"
      ]
    },
    {
      "cell_type": "code",
      "execution_count": 45,
      "metadata": {},
      "outputs": [
        {
          "name": "stdout",
          "output_type": "stream",
          "text": [
            "<class 'pandas.core.frame.DataFrame'>\n",
            "RangeIndex: 41258 entries, 0 to 41257\n",
            "Data columns (total 15 columns):\n",
            " #   Column           Non-Null Count  Dtype  \n",
            "---  ------           --------------  -----  \n",
            " 0   Unnamed: 0       41258 non-null  int64  \n",
            " 1   id               41258 non-null  int64  \n",
            " 2   CustomerId       41258 non-null  int64  \n",
            " 3   Surname          41258 non-null  object \n",
            " 4   CreditScore      41246 non-null  float64\n",
            " 5   Geography        41258 non-null  object \n",
            " 6   Gender           41258 non-null  object \n",
            " 7   Age              41258 non-null  float64\n",
            " 8   Tenure           41258 non-null  int64  \n",
            " 9   Balance          41258 non-null  float64\n",
            " 10  NumOfProducts    41258 non-null  int64  \n",
            " 11  HasCrCard        41258 non-null  int64  \n",
            " 12  IsActiveMember   41258 non-null  int64  \n",
            " 13  EstimatedSalary  41258 non-null  float64\n",
            " 14  churn            41258 non-null  int64  \n",
            "dtypes: float64(4), int64(8), object(3)\n",
            "memory usage: 4.7+ MB\n"
          ]
        }
      ],
      "source": [
        "df.info()"
      ]
    },
    {
      "cell_type": "code",
      "execution_count": 46,
      "metadata": {
        "colab": {
          "base_uri": "https://localhost:8080/",
          "height": 273
        },
        "id": "Bv1nHhvQ1JRX",
        "outputId": "59709e60-4dca-4614-9f17-7a8f0c040fb6"
      },
      "outputs": [
        {
          "data": {
            "text/html": [
              "<div>\n",
              "<style scoped>\n",
              "    .dataframe tbody tr th:only-of-type {\n",
              "        vertical-align: middle;\n",
              "    }\n",
              "\n",
              "    .dataframe tbody tr th {\n",
              "        vertical-align: top;\n",
              "    }\n",
              "\n",
              "    .dataframe thead th {\n",
              "        text-align: right;\n",
              "    }\n",
              "</style>\n",
              "<table border=\"1\" class=\"dataframe\">\n",
              "  <thead>\n",
              "    <tr style=\"text-align: right;\">\n",
              "      <th></th>\n",
              "      <th>Unnamed: 0</th>\n",
              "      <th>id</th>\n",
              "      <th>CustomerId</th>\n",
              "      <th>Surname</th>\n",
              "      <th>CreditScore</th>\n",
              "      <th>Geography</th>\n",
              "      <th>Gender</th>\n",
              "      <th>Age</th>\n",
              "      <th>Tenure</th>\n",
              "      <th>Balance</th>\n",
              "      <th>NumOfProducts</th>\n",
              "      <th>HasCrCard</th>\n",
              "      <th>IsActiveMember</th>\n",
              "      <th>EstimatedSalary</th>\n",
              "      <th>churn</th>\n",
              "    </tr>\n",
              "  </thead>\n",
              "  <tbody>\n",
              "    <tr>\n",
              "      <th>0</th>\n",
              "      <td>0</td>\n",
              "      <td>157138</td>\n",
              "      <td>15638646</td>\n",
              "      <td>Chinweike</td>\n",
              "      <td>628.0</td>\n",
              "      <td>Spain</td>\n",
              "      <td>Female</td>\n",
              "      <td>50.0</td>\n",
              "      <td>4</td>\n",
              "      <td>160133.08</td>\n",
              "      <td>1</td>\n",
              "      <td>1</td>\n",
              "      <td>1</td>\n",
              "      <td>653.53</td>\n",
              "      <td>0</td>\n",
              "    </tr>\n",
              "    <tr>\n",
              "      <th>1</th>\n",
              "      <td>1</td>\n",
              "      <td>116144</td>\n",
              "      <td>15695825</td>\n",
              "      <td>Onwumelu</td>\n",
              "      <td>710.0</td>\n",
              "      <td>Spain</td>\n",
              "      <td>Male</td>\n",
              "      <td>34.0</td>\n",
              "      <td>8</td>\n",
              "      <td>0.00</td>\n",
              "      <td>2</td>\n",
              "      <td>1</td>\n",
              "      <td>1</td>\n",
              "      <td>72993.73</td>\n",
              "      <td>0</td>\n",
              "    </tr>\n",
              "    <tr>\n",
              "      <th>2</th>\n",
              "      <td>2</td>\n",
              "      <td>145603</td>\n",
              "      <td>15592765</td>\n",
              "      <td>Marks</td>\n",
              "      <td>663.0</td>\n",
              "      <td>France</td>\n",
              "      <td>Female</td>\n",
              "      <td>23.0</td>\n",
              "      <td>8</td>\n",
              "      <td>125470.81</td>\n",
              "      <td>1</td>\n",
              "      <td>1</td>\n",
              "      <td>1</td>\n",
              "      <td>174536.17</td>\n",
              "      <td>0</td>\n",
              "    </tr>\n",
              "    <tr>\n",
              "      <th>3</th>\n",
              "      <td>3</td>\n",
              "      <td>79929</td>\n",
              "      <td>15807525</td>\n",
              "      <td>Onyemachukwu</td>\n",
              "      <td>644.0</td>\n",
              "      <td>Spain</td>\n",
              "      <td>Male</td>\n",
              "      <td>45.0</td>\n",
              "      <td>8</td>\n",
              "      <td>0.00</td>\n",
              "      <td>2</td>\n",
              "      <td>0</td>\n",
              "      <td>1</td>\n",
              "      <td>28690.90</td>\n",
              "      <td>0</td>\n",
              "    </tr>\n",
              "    <tr>\n",
              "      <th>4</th>\n",
              "      <td>4</td>\n",
              "      <td>52554</td>\n",
              "      <td>15611551</td>\n",
              "      <td>Hill</td>\n",
              "      <td>627.0</td>\n",
              "      <td>Spain</td>\n",
              "      <td>Male</td>\n",
              "      <td>23.0</td>\n",
              "      <td>5</td>\n",
              "      <td>0.00</td>\n",
              "      <td>2</td>\n",
              "      <td>1</td>\n",
              "      <td>0</td>\n",
              "      <td>134483.07</td>\n",
              "      <td>0</td>\n",
              "    </tr>\n",
              "  </tbody>\n",
              "</table>\n",
              "</div>"
            ],
            "text/plain": [
              "   Unnamed: 0      id  CustomerId       Surname  CreditScore Geography  \\\n",
              "0           0  157138    15638646     Chinweike        628.0     Spain   \n",
              "1           1  116144    15695825      Onwumelu        710.0     Spain   \n",
              "2           2  145603    15592765         Marks        663.0    France   \n",
              "3           3   79929    15807525  Onyemachukwu        644.0     Spain   \n",
              "4           4   52554    15611551          Hill        627.0     Spain   \n",
              "\n",
              "   Gender   Age  Tenure    Balance  NumOfProducts  HasCrCard  IsActiveMember  \\\n",
              "0  Female  50.0       4  160133.08              1          1               1   \n",
              "1    Male  34.0       8       0.00              2          1               1   \n",
              "2  Female  23.0       8  125470.81              1          1               1   \n",
              "3    Male  45.0       8       0.00              2          0               1   \n",
              "4    Male  23.0       5       0.00              2          1               0   \n",
              "\n",
              "   EstimatedSalary  churn  \n",
              "0           653.53      0  \n",
              "1         72993.73      0  \n",
              "2        174536.17      0  \n",
              "3         28690.90      0  \n",
              "4        134483.07      0  "
            ]
          },
          "execution_count": 46,
          "metadata": {},
          "output_type": "execute_result"
        }
      ],
      "source": [
        "df.head()"
      ]
    },
    {
      "cell_type": "code",
      "execution_count": 47,
      "metadata": {
        "colab": {
          "base_uri": "https://localhost:8080/"
        },
        "id": "Sz7XjUBL1PHn",
        "outputId": "05aaf9e4-538f-4e46-88c9-f020e92a2a65"
      },
      "outputs": [
        {
          "data": {
            "text/plain": [
              "Index(['Unnamed: 0', 'id', 'CustomerId', 'Surname', 'CreditScore', 'Geography',\n",
              "       'Gender', 'Age', 'Tenure', 'Balance', 'NumOfProducts', 'HasCrCard',\n",
              "       'IsActiveMember', 'EstimatedSalary', 'churn'],\n",
              "      dtype='object')"
            ]
          },
          "execution_count": 47,
          "metadata": {},
          "output_type": "execute_result"
        }
      ],
      "source": [
        "df.columns"
      ]
    },
    {
      "cell_type": "code",
      "execution_count": 48,
      "metadata": {},
      "outputs": [
        {
          "name": "stdout",
          "output_type": "stream",
          "text": [
            "Unnamed: 0: 41258\n",
            "[    0     1     2 ... 41255 41256 41257]\n",
            "\n",
            "id: 41258\n",
            "[157138 116144 145603 ... 132494  31177 154294]\n",
            "\n",
            "CustomerId: 13212\n",
            "[15638646 15695825 15592765 ... 15692434 15794588 15696231]\n",
            "\n",
            "Surname: 2272\n",
            "['Chinweike' 'Onwumelu' 'Marks' ... 'Pagan' 'Wildman' 'Igwebuike']\n",
            "\n",
            "CreditScore: 444\n",
            "[628. 710. 663. 644. 627. 754. 616. 477. 526. 597. 745. 705. 648. 718.\n",
            " 619. 738. 576. 438. 792. 646. 579. 652. 494. 602. 679. 850. 733. 803.\n",
            " 769. 645. 635. 714. 634. 651. 551. 739. 668. 517. 709. 547. 702. 712.\n",
            " 540. 611. 834. 682. 683. 691. 755. 641. 764. 765. 583. 511. 716. 676.\n",
            " 565. 460. 711. 643. 704. 621. 592. 695. 677. 743. 622. 749. 593. 678.\n",
            " 752. 697. 633. 584. 666. 767. 581. 814. 647. 757. 667. 690. 638. 632.\n",
            " 516. 637. 613. 624. 686. 721. 594. 588. 656. 573. 715. 732. 655. 670.\n",
            " 788. 730. 556. 658. 590. 726. 653. 629. 489. 604. 729. 485. 614. 684.\n",
            " 707. 773. 717. 609. 615. 587. 603. 585. 687. 636. 544. 630. 833. 562.\n",
            " 829. 535. 564. 598. 681. 612. 751. 762. 831. 794. 591. 815. 548. 825.\n",
            " 659. 538. 694. 756. 596. 521. 753. 497. 849. 528. 639. 502. 662. 708.\n",
            " 693. 775. 549. 567. 507. 724. 713. 685. 783. 431. 796. 680. 527. 649.\n",
            " 706. 492. 748. 758. 671. 595. 557. 774. 696. 474. 539. 689. 582. 841.\n",
            " 785. 607. 735. 703. 524. 617. 731. 605. 727. 578. 728. 575. 536. 496.\n",
            " 554. 472. 719.  nan 577. 599. 515. 586. 845. 741. 669. 759. 787. 699.\n",
            " 571. 493. 570. 553. 545. 525. 600. 673. 476. 817. 552. 532. 661. 488.\n",
            " 480. 601. 771. 626. 674. 778. 795. 835. 610. 620. 640. 625. 572. 608.\n",
            " 782. 513. 675. 720. 543. 569. 631. 806. 558. 650. 786. 523. 827. 499.\n",
            " 725. 832. 623. 821. 665. 805. 529. 777. 542. 520. 508. 568. 736. 813.\n",
            " 589. 434. 531. 487. 559. 700. 664. 606. 737. 692. 672. 781. 504. 723.\n",
            " 498. 701. 530. 779. 642. 550. 501. 746. 537. 481. 534. 790. 519. 657.\n",
            " 740. 698. 688. 742. 479. 566. 574. 819. 618. 555. 506. 541. 750. 826.\n",
            " 449. 800. 458. 467. 768. 415. 744. 784. 793. 763. 443. 836. 809. 509.\n",
            " 842. 580. 722. 823. 533. 828. 561. 798. 660. 522. 563. 812. 560. 446.\n",
            " 789. 824. 503. 518. 838. 459. 770. 844. 837. 452. 654. 811. 802. 478.\n",
            " 766. 810. 457. 470. 797. 818. 776. 734. 510. 444. 807. 772. 466. 473.\n",
            " 469. 791. 468. 804. 430. 447. 435. 486. 413. 820. 464. 816. 760. 514.\n",
            " 512. 461. 442. 414. 484. 799. 453. 808. 505. 471. 843. 482. 483. 546.\n",
            " 451. 801. 761. 846. 426. 363. 491. 839. 441. 780. 367. 822. 747. 439.\n",
            " 495. 437. 456. 454. 412. 490. 445. 465. 847. 422. 428. 848. 417. 411.\n",
            " 383. 500. 463. 433. 455. 421. 425. 475. 462. 424. 418. 429. 840. 408.\n",
            " 416. 432. 420. 830. 365. 350. 376. 423. 359. 405. 427.]\n",
            "\n",
            "Geography: 3\n",
            "['Spain' 'France' 'Germany']\n",
            "\n",
            "Gender: 2\n",
            "['Female' 'Male']\n",
            "\n",
            "Age: 71\n",
            "[50.   34.   23.   45.   39.   32.   30.   31.   25.   37.   47.   28.\n",
            " 40.   44.   29.   26.   22.   53.   36.   48.   38.   33.   59.   55.\n",
            " 46.   35.   54.   27.   43.   49.   41.   42.   63.   62.   66.   24.\n",
            " 60.   19.   32.34 20.   52.   57.   51.   64.   56.   21.   77.   58.\n",
            " 61.   65.   67.   71.   79.   69.   80.   74.   72.   70.   18.   83.\n",
            " 78.   68.   73.   75.   76.   82.   92.   84.   85.   36.44 81.  ]\n",
            "\n",
            "Tenure: 11\n",
            "[ 4  8  5  9  1  3  2 10  7  6  0]\n",
            "\n",
            "Balance: 11410\n",
            "[160133.08      0.   125470.81 ...  87847.84 119452.03 105405.97]\n",
            "\n",
            "NumOfProducts: 4\n",
            "[1 2 3 4]\n",
            "\n",
            "HasCrCard: 2\n",
            "[1 0]\n",
            "\n",
            "IsActiveMember: 2\n",
            "[1 0]\n",
            "\n",
            "EstimatedSalary: 20841\n",
            "[   653.53  72993.73 174536.17 ...  93982.61 102073.29  69227.66]\n",
            "\n",
            "churn: 2\n",
            "[0 1]\n",
            "\n"
          ]
        }
      ],
      "source": [
        "# Unique value in each column\n",
        "for c in df:\n",
        "    print(f'{c}: {df[c].nunique()}')\n",
        "    print(df[c].unique())\n",
        "    print()"
      ]
    },
    {
      "cell_type": "code",
      "execution_count": 49,
      "metadata": {},
      "outputs": [
        {
          "data": {
            "text/plain": [
              "Unnamed: 0          0\n",
              "id                  0\n",
              "CustomerId          0\n",
              "Surname             0\n",
              "CreditScore        12\n",
              "Geography           0\n",
              "Gender              0\n",
              "Age                 0\n",
              "Tenure              0\n",
              "Balance             0\n",
              "NumOfProducts       0\n",
              "HasCrCard           0\n",
              "IsActiveMember      0\n",
              "EstimatedSalary     0\n",
              "churn               0\n",
              "dtype: int64"
            ]
          },
          "execution_count": 49,
          "metadata": {},
          "output_type": "execute_result"
        }
      ],
      "source": [
        "df.isna().sum()"
      ]
    },
    {
      "cell_type": "code",
      "execution_count": 50,
      "metadata": {},
      "outputs": [
        {
          "data": {
            "text/plain": [
              "0"
            ]
          },
          "execution_count": 50,
          "metadata": {},
          "output_type": "execute_result"
        }
      ],
      "source": [
        "df.duplicated().sum()"
      ]
    },
    {
      "cell_type": "markdown",
      "metadata": {
        "id": "HXJlO4y5PqBZ"
      },
      "source": [
        "# Feature Engineering"
      ]
    },
    {
      "cell_type": "code",
      "execution_count": 51,
      "metadata": {},
      "outputs": [],
      "source": [
        "# Fill the Null Value in CreditScore with its mean\n",
        "df['CreditScore'].fillna(df['CreditScore'].mean(), inplace = True)"
      ]
    },
    {
      "cell_type": "code",
      "execution_count": 52,
      "metadata": {},
      "outputs": [
        {
          "data": {
            "text/plain": [
              "Unnamed: 0         0\n",
              "id                 0\n",
              "CustomerId         0\n",
              "Surname            0\n",
              "CreditScore        0\n",
              "Geography          0\n",
              "Gender             0\n",
              "Age                0\n",
              "Tenure             0\n",
              "Balance            0\n",
              "NumOfProducts      0\n",
              "HasCrCard          0\n",
              "IsActiveMember     0\n",
              "EstimatedSalary    0\n",
              "churn              0\n",
              "dtype: int64"
            ]
          },
          "execution_count": 52,
          "metadata": {},
          "output_type": "execute_result"
        }
      ],
      "source": [
        "df.isna().sum()"
      ]
    },
    {
      "cell_type": "code",
      "execution_count": 53,
      "metadata": {},
      "outputs": [],
      "source": [
        "# Drop the 'Unnamed: 0' column because it's not relevant\n",
        "df.drop('Unnamed: 0', axis=1, inplace=True)"
      ]
    },
    {
      "cell_type": "code",
      "execution_count": 54,
      "metadata": {},
      "outputs": [],
      "source": [
        "# Drop the 'Surname' column\n",
        "df.drop('Surname', axis=1, inplace=True)"
      ]
    },
    {
      "cell_type": "code",
      "execution_count": 55,
      "metadata": {},
      "outputs": [],
      "source": [
        "# Encoding for object feature with LabelEncoder\n",
        "from sklearn.preprocessing import LabelEncoder\n",
        "\n",
        "labelEnc = LabelEncoder()\n",
        "df['Geography'] = labelEnc.fit_transform(df['Geography'])\n",
        "df['Gender'] = labelEnc.fit_transform(df['Gender'])"
      ]
    },
    {
      "cell_type": "code",
      "execution_count": 56,
      "metadata": {},
      "outputs": [
        {
          "name": "stdout",
          "output_type": "stream",
          "text": [
            "<class 'pandas.core.frame.DataFrame'>\n",
            "RangeIndex: 41258 entries, 0 to 41257\n",
            "Data columns (total 13 columns):\n",
            " #   Column           Non-Null Count  Dtype  \n",
            "---  ------           --------------  -----  \n",
            " 0   id               41258 non-null  int64  \n",
            " 1   CustomerId       41258 non-null  int64  \n",
            " 2   CreditScore      41258 non-null  float64\n",
            " 3   Geography        41258 non-null  int32  \n",
            " 4   Gender           41258 non-null  int32  \n",
            " 5   Age              41258 non-null  float64\n",
            " 6   Tenure           41258 non-null  int64  \n",
            " 7   Balance          41258 non-null  float64\n",
            " 8   NumOfProducts    41258 non-null  int64  \n",
            " 9   HasCrCard        41258 non-null  int64  \n",
            " 10  IsActiveMember   41258 non-null  int64  \n",
            " 11  EstimatedSalary  41258 non-null  float64\n",
            " 12  churn            41258 non-null  int64  \n",
            "dtypes: float64(4), int32(2), int64(7)\n",
            "memory usage: 3.8 MB\n"
          ]
        }
      ],
      "source": [
        "df.info()"
      ]
    },
    {
      "cell_type": "code",
      "execution_count": 57,
      "metadata": {},
      "outputs": [
        {
          "data": {
            "image/png": "[encoded data removed]",
            "text/plain": [
              "<Figure size 640x480 with 1 Axes>"
            ]
          },
          "metadata": {},
          "output_type": "display_data"
        },
        {
          "name": "stdout",
          "output_type": "stream",
          "text": [
            "id\n"
          ]
        },
        {
          "data": {
            "image/png": "[encoded data removed]",
            "text/plain": [
              "<Figure size 640x480 with 1 Axes>"
            ]
          },
          "metadata": {},
          "output_type": "display_data"
        },
        {
          "name": "stdout",
          "output_type": "stream",
          "text": [
            "CustomerId\n"
          ]
        },
        {
          "data": {
            "image/png": "[encoded data removed]",
            "text/plain": [
              "<Figure size 640x480 with 1 Axes>"
            ]
          },
          "metadata": {},
          "output_type": "display_data"
        },
        {
          "name": "stdout",
          "output_type": "stream",
          "text": [
            "CreditScore\n"
          ]
        },
        {
          "data": {
            "image/png": "[encoded data removed]",
            "text/plain": [
              "<Figure size 640x480 with 1 Axes>"
            ]
          },
          "metadata": {},
          "output_type": "display_data"
        },
        {
          "name": "stdout",
          "output_type": "stream",
          "text": [
            "Geography\n"
          ]
        },
        {
          "data": {
            "image/png": "[encoded data removed]",
            "text/plain": [
              "<Figure size 640x480 with 1 Axes>"
            ]
          },
          "metadata": {},
          "output_type": "display_data"
        },
        {
          "name": "stdout",
          "output_type": "stream",
          "text": [
            "Gender\n"
          ]
        },
        {
          "data": {
            "image/png": "[encoded data removed]",
            "text/plain": [
              "<Figure size 640x480 with 1 Axes>"
            ]
          },
          "metadata": {},
          "output_type": "display_data"
        },
        {
          "name": "stdout",
          "output_type": "stream",
          "text": [
            "Age\n"
          ]
        },
        {
          "data": {
            "image/png": "[encoded data removed]",
            "text/plain": [
              "<Figure size 640x480 with 1 Axes>"
            ]
          },
          "metadata": {},
          "output_type": "display_data"
        },
        {
          "name": "stdout",
          "output_type": "stream",
          "text": [
            "Tenure\n"
          ]
        },
        {
          "data": {
            "image/png": "[encoded data removed]",
            "text/plain": [
              "<Figure size 640x480 with 1 Axes>"
            ]
          },
          "metadata": {},
          "output_type": "display_data"
        },
        {
          "name": "stdout",
          "output_type": "stream",
          "text": [
            "Balance\n"
          ]
        },
        {
          "data": {
            "image/png": "[encoded data removed]",
            "text/plain": [
              "<Figure size 640x480 with 1 Axes>"
            ]
          },
          "metadata": {},
          "output_type": "display_data"
        },
        {
          "name": "stdout",
          "output_type": "stream",
          "text": [
            "NumOfProducts\n"
          ]
        },
        {
          "data": {
            "image/png": "[encoded data removed]",
            "text/plain": [
              "<Figure size 640x480 with 1 Axes>"
            ]
          },
          "metadata": {},
          "output_type": "display_data"
        },
        {
          "name": "stdout",
          "output_type": "stream",
          "text": [
            "HasCrCard\n"
          ]
        },
        {
          "data": {
            "image/png": "[encoded data removed]",
            "text/plain": [
              "<Figure size 640x480 with 1 Axes>"
            ]
          },
          "metadata": {},
          "output_type": "display_data"
        },
        {
          "name": "stdout",
          "output_type": "stream",
          "text": [
            "IsActiveMember\n"
          ]
        },
        {
          "data": {
            "image/png": "[encoded data removed]",
            "text/plain": [
              "<Figure size 640x480 with 1 Axes>"
            ]
          },
          "metadata": {},
          "output_type": "display_data"
        },
        {
          "name": "stdout",
          "output_type": "stream",
          "text": [
            "EstimatedSalary\n"
          ]
        },
        {
          "data": {
            "image/png": "[encoded data removed]",
            "text/plain": [
              "<Figure size 640x480 with 1 Axes>"
            ]
          },
          "metadata": {},
          "output_type": "display_data"
        },
        {
          "name": "stdout",
          "output_type": "stream",
          "text": [
            "churn\n"
          ]
        }
      ],
      "source": [
        "# Check Outlier\n",
        "for col in df:\n",
        "    plt.boxplot(df[col])\n",
        "    plt.show()\n",
        "    print(col)"
      ]
    },
    {
      "cell_type": "code",
      "execution_count": 58,
      "metadata": {},
      "outputs": [
        {
          "name": "stdout",
          "output_type": "stream",
          "text": [
            "[415. 413. 414. 363. 367. 412. 413. 411. 383. 415. 412. 408. 416. 411.\n",
            " 411. 416. 411. 414. 365. 411. 350. 365. 376. 408. 350. 359. 405. 411.\n",
            " 414. 412. 411. 359.]\n",
            "32\n"
          ]
        }
      ],
      "source": [
        "# Remove Outlier in feature CreditScore and Age\n",
        "#store outlier value\n",
        "mean = df['CreditScore'].mean()\n",
        "std = df['CreditScore'].std()\n",
        "Tmax = mean + (3 * std)\n",
        "Tmin = mean - (3 * std)\n",
        "Outlier = df[(df['CreditScore'] < Tmin) | (df['CreditScore'] > Tmax)]['CreditScore'].values\n",
        "print(Outlier)\n",
        "print(len(Outlier))"
      ]
    },
    {
      "cell_type": "code",
      "execution_count": 59,
      "metadata": {},
      "outputs": [],
      "source": [
        "df = df[~df['CreditScore'].isin(Outlier)]"
      ]
    },
    {
      "cell_type": "code",
      "execution_count": 60,
      "metadata": {},
      "outputs": [
        {
          "name": "stdout",
          "output_type": "stream",
          "text": [
            "[66. 66. 77. 65. 67. 71. 65. 79. 66. 69. 67. 65. 80. 67. 74. 65. 67. 72.\n",
            " 67. 69. 71. 66. 67. 67. 70. 66. 66. 67. 80. 67. 67. 74. 67. 66. 69. 71.\n",
            " 67. 70. 67. 69. 71. 70. 66. 66. 83. 67. 72. 78. 79. 70. 77. 68. 66. 66.\n",
            " 66. 69. 67. 67. 67. 66. 66. 71. 70. 70. 77. 67. 66. 73. 68. 66. 72. 66.\n",
            " 79. 65. 77. 65. 66. 67. 67. 75. 65. 73. 69. 69. 67. 65. 71. 69. 68. 72.\n",
            " 67. 78. 71. 71. 67. 75. 73. 67. 71. 68. 66. 69. 76. 74. 67. 77. 67. 70.\n",
            " 66. 71. 65. 77. 71. 69. 77. 67. 67. 71. 82. 66. 65. 78. 66. 74. 71. 66.\n",
            " 66. 69. 66. 68. 66. 67. 66. 67. 92. 71. 71. 71. 66. 71. 65. 66. 71. 65.\n",
            " 66. 72. 74. 66. 72. 69. 71. 66. 66. 71. 68. 74. 66. 92. 68. 67. 67. 69.\n",
            " 66. 68. 69. 71. 72. 69. 72. 71. 70. 67. 69. 71. 71. 68. 74. 66. 72. 67.\n",
            " 71. 73. 66. 65. 67. 67. 65. 66. 73. 67. 65. 67. 67. 68. 66. 70. 65. 66.\n",
            " 70. 71. 66. 67. 77. 67. 66. 74. 71. 67. 77. 72. 66. 71. 66. 67. 75. 65.\n",
            " 67. 67. 68. 71. 67. 66. 66. 66. 72. 68. 65. 72. 69. 74. 67. 77. 74. 66.\n",
            " 71. 66. 68. 66. 67. 67. 66. 66. 71. 71. 72. 67. 66. 71. 66. 67. 76. 71.\n",
            " 68. 69. 70. 66. 79. 72. 65. 69. 67. 67. 69. 67. 66. 68. 75. 68. 80. 67.\n",
            " 70. 66. 74. 66. 68. 75. 72. 72. 68. 70. 75. 84. 71. 71. 70. 66. 78. 92.\n",
            " 68. 68. 67. 71. 69. 67. 76. 67. 66. 72. 68. 67. 66. 69. 66. 66. 66. 66.\n",
            " 74. 67. 72. 65. 71. 66. 72. 70. 67. 67. 67. 65. 73. 72. 66. 75. 66. 65.\n",
            " 67. 72. 68. 66. 66. 72. 70. 68. 69. 65. 75. 77. 71. 82. 67. 72. 72. 65.\n",
            " 67. 66. 71. 79. 70. 74. 80. 77. 71. 65. 69. 65. 73. 75. 68. 71. 66. 70.\n",
            " 72. 75. 66. 65. 71. 71. 69. 71. 72. 70. 66. 71. 78. 65. 67. 67. 72. 75.\n",
            " 67. 72. 66. 67. 71. 73. 70. 66. 72. 67. 68. 66. 71. 67. 65. 74. 71. 67.\n",
            " 71. 67. 85. 75. 67. 65. 74. 67. 76. 65. 66. 66. 70. 67. 77. 65. 72. 77.\n",
            " 67. 77. 65. 77. 66. 66. 78. 67. 66. 67. 75. 67. 74. 70. 66. 67. 65. 66.\n",
            " 66. 75. 66. 74. 72. 71. 67. 74. 71. 71. 66. 68. 67. 71. 72. 67. 68. 71.\n",
            " 66. 67. 71. 66. 81. 66. 67. 71. 67. 66. 65. 74. 67. 76. 67. 79. 73. 73.\n",
            " 69. 71. 71. 76. 79. 67. 92. 66. 71. 72. 66. 76. 72. 65. 72. 71. 66. 66.\n",
            " 74. 74. 75. 68. 67. 76. 73. 71. 67. 66. 69. 67. 73. 65. 67. 67. 71. 67.\n",
            " 69. 68. 66. 66. 67. 69. 66. 71. 79. 69. 71. 71. 75. 69. 68. 72. 66.]\n",
            "521\n"
          ]
        }
      ],
      "source": [
        "mean = df['Age'].mean()\n",
        "std = df['Age'].std()\n",
        "Tmax = mean + (3 * std)\n",
        "Tmin = mean - (3 * std)\n",
        "Outlier = df[(df['Age'] < Tmin) | (df['Age'] > Tmax)]['Age'].values\n",
        "print(Outlier)\n",
        "print(len(Outlier))"
      ]
    },
    {
      "cell_type": "code",
      "execution_count": 61,
      "metadata": {},
      "outputs": [],
      "source": [
        "df = df[~df['Age'].isin(Outlier)]"
      ]
    },
    {
      "cell_type": "code",
      "execution_count": 62,
      "metadata": {
        "colab": {
          "base_uri": "https://localhost:8080/"
        },
        "id": "NiZ9vyis2Xz1",
        "outputId": "870e5f13-f92e-4f61-d8d1-73bcb8972344"
      },
      "outputs": [
        {
          "name": "stdout",
          "output_type": "stream",
          "text": [
            "<class 'pandas.core.frame.DataFrame'>\n",
            "Index: 40705 entries, 0 to 41257\n",
            "Data columns (total 13 columns):\n",
            " #   Column           Non-Null Count  Dtype  \n",
            "---  ------           --------------  -----  \n",
            " 0   id               40705 non-null  int64  \n",
            " 1   CustomerId       40705 non-null  int64  \n",
            " 2   CreditScore      40705 non-null  float64\n",
            " 3   Geography        40705 non-null  int32  \n",
            " 4   Gender           40705 non-null  int32  \n",
            " 5   Age              40705 non-null  float64\n",
            " 6   Tenure           40705 non-null  int64  \n",
            " 7   Balance          40705 non-null  float64\n",
            " 8   NumOfProducts    40705 non-null  int64  \n",
            " 9   HasCrCard        40705 non-null  int64  \n",
            " 10  IsActiveMember   40705 non-null  int64  \n",
            " 11  EstimatedSalary  40705 non-null  float64\n",
            " 12  churn            40705 non-null  int64  \n",
            "dtypes: float64(4), int32(2), int64(7)\n",
            "memory usage: 4.0 MB\n"
          ]
        }
      ],
      "source": [
        "df.info()"
      ]
    },
    {
      "cell_type": "code",
      "execution_count": 63,
      "metadata": {
        "id": "JyMujhHj23Ez"
      },
      "outputs": [],
      "source": [
        "#Convert all feature to int\n",
        "columns_toConvert = ['CreditScore','Age','Balance','EstimatedSalary']\n",
        "df[columns_toConvert] = df[columns_toConvert].astype(int)"
      ]
    },
    {
      "cell_type": "code",
      "execution_count": 64,
      "metadata": {
        "colab": {
          "base_uri": "https://localhost:8080/"
        },
        "id": "Sr97Jayj3qXQ",
        "outputId": "a164e965-aab6-4d89-b796-f98c168577ff"
      },
      "outputs": [
        {
          "name": "stdout",
          "output_type": "stream",
          "text": [
            "<class 'pandas.core.frame.DataFrame'>\n",
            "Index: 40705 entries, 0 to 41257\n",
            "Data columns (total 13 columns):\n",
            " #   Column           Non-Null Count  Dtype\n",
            "---  ------           --------------  -----\n",
            " 0   id               40705 non-null  int64\n",
            " 1   CustomerId       40705 non-null  int64\n",
            " 2   CreditScore      40705 non-null  int32\n",
            " 3   Geography        40705 non-null  int32\n",
            " 4   Gender           40705 non-null  int32\n",
            " 5   Age              40705 non-null  int32\n",
            " 6   Tenure           40705 non-null  int64\n",
            " 7   Balance          40705 non-null  int32\n",
            " 8   NumOfProducts    40705 non-null  int64\n",
            " 9   HasCrCard        40705 non-null  int64\n",
            " 10  IsActiveMember   40705 non-null  int64\n",
            " 11  EstimatedSalary  40705 non-null  int32\n",
            " 12  churn            40705 non-null  int64\n",
            "dtypes: int32(6), int64(7)\n",
            "memory usage: 3.4 MB\n"
          ]
        }
      ],
      "source": [
        "df.info()"
      ]
    },
    {
      "cell_type": "markdown",
      "metadata": {
        "id": "qfb6UAwUP7le"
      },
      "source": [
        "# Training Machine Learning Model"
      ]
    },
    {
      "cell_type": "markdown",
      "metadata": {
        "id": "FyKY5UB4pVmL"
      },
      "source": [
        "## Splitting data into training and testing"
      ]
    },
    {
      "cell_type": "code",
      "execution_count": 65,
      "metadata": {
        "id": "OtesAIrZ32Rb"
      },
      "outputs": [],
      "source": [
        "input_df = df.drop('churn',axis=1)\n",
        "output_df = df['churn']"
      ]
    },
    {
      "cell_type": "code",
      "execution_count": 66,
      "metadata": {
        "id": "aGEbYhk03-YO"
      },
      "outputs": [],
      "source": [
        "from sklearn.model_selection import train_test_split\n",
        "x_train, x_test, y_train, y_test = train_test_split(input_df, output_df, test_size = 0.2, random_state = 42)"
      ]
    },
    {
      "cell_type": "markdown",
      "metadata": {},
      "source": [
        "## Classification using Random Forest"
      ]
    },
    {
      "cell_type": "code",
      "execution_count": 67,
      "metadata": {
        "id": "HIDzL0JB4Aha"
      },
      "outputs": [],
      "source": [
        "from sklearn.ensemble import RandomForestClassifier\n",
        "import warnings\n",
        "warnings.filterwarnings('ignore')\n",
        "\n",
        "RF_class = RandomForestClassifier(criterion= 'gini',max_depth=4)\n",
        "RF_class.fit(x_train, y_train)\n",
        "y_predict=RF_class.predict(x_test)"
      ]
    },
    {
      "cell_type": "code",
      "execution_count": 68,
      "metadata": {
        "colab": {
          "base_uri": "https://localhost:8080/"
        },
        "id": "9GnmcEIo4IdG",
        "outputId": "2777cd41-6ce6-40d3-cdd9-f02841924755"
      },
      "outputs": [
        {
          "name": "stdout",
          "output_type": "stream",
          "text": [
            "\n",
            "Classification Report\n",
            "\n",
            "              precision    recall  f1-score   support\n",
            "\n",
            "           0       0.84      0.98      0.91      6368\n",
            "           1       0.84      0.34      0.49      1773\n",
            "\n",
            "    accuracy                           0.84      8141\n",
            "   macro avg       0.84      0.66      0.70      8141\n",
            "weighted avg       0.84      0.84      0.82      8141\n",
            "\n"
          ]
        }
      ],
      "source": [
        "from sklearn.metrics import classification_report\n",
        "print('\\nClassification Report\\n')\n",
        "print(classification_report(y_test, y_predict, target_names=['0','1']))"
      ]
    },
    {
      "cell_type": "code",
      "execution_count": 69,
      "metadata": {},
      "outputs": [],
      "source": [
        "import pickle as pkl\n",
        "filename = 'Best_model.pkl'\n",
        "pkl.dump(RF_class, open(filename, 'wb'))"
      ]
    }
  ],
  "metadata": {
    "colab": {
      "provenance": []
    },
    "kernelspec": {
      "display_name": "Python 3",
      "name": "python3"
    },
    "language_info": {
      "codemirror_mode": {
        "name": "ipython",
        "version": 3
      },
      "file_extension": ".py",
      "mimetype": "text/x-python",
      "name": "python",
      "nbconvert_exporter": "python",
      "pygments_lexer": "ipython3",
      "version": "3.10.9"
    }
  },
  "nbformat": 4,
  "nbformat_minor": 0
}
